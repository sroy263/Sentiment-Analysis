{
 "cells": [
  {
   "cell_type": "code",
   "execution_count": 21,
   "metadata": {},
   "outputs": [],
   "source": [
    "import pandas as pd\n",
    "import csv\n",
    "df=pd.read_csv('new.csv',encoding='iso-8859-13')\n",
    "df1=pd.read_csv('sentiment_1.csv')\n",
    "df2=pd.read_csv('sentiment_2.csv')\n",
    "df3=pd.read_csv('sentiment_lancaster.csv')\n",
    "df4=pd.read_csv('sentiment_snowball.csv')\n",
    "df5=pd.read_csv('sentiment_porter.csv')"
   ]
  },
  {
   "cell_type": "code",
   "execution_count": 22,
   "metadata": {},
   "outputs": [],
   "source": [
    "file = open('C:\\\\Users\\\\Desktop\\\\Desktop\\\\roy\\\\sentiment.csv','w',encoding='ISO-8859-13')\n",
    "file.write(\"Title,Content,No Filtering,Filtering,Lancaster,Snowball,Porter\\n\")\n",
    "file.close()"
   ]
  },
  {
   "cell_type": "code",
   "execution_count": 23,
   "metadata": {},
   "outputs": [],
   "source": [
    "dff=pd.read_csv('sentiment.csv')"
   ]
  },
  {
   "cell_type": "code",
   "execution_count": 24,
   "metadata": {},
   "outputs": [],
   "source": [
    "dff['Title']=df['Title']\n",
    "dff['Content']=df['Content']"
   ]
  },
  {
   "cell_type": "code",
   "execution_count": 25,
   "metadata": {},
   "outputs": [],
   "source": [
    "dff['No Filtering']=df1['Sentiment']\n",
    "dff['Filtering']=df2['Sentiment']\n",
    "dff['Lancaster']=df3['Sentiment']\n",
    "dff['Snowball']=df4['Sentiment']\n",
    "dff['Porter']=df5['Sentiment']"
   ]
  },
  {
   "cell_type": "code",
   "execution_count": 26,
   "metadata": {},
   "outputs": [],
   "source": [
    "dff.to_csv('sentiment.csv')"
   ]
  },
  {
   "cell_type": "code",
   "execution_count": null,
   "metadata": {},
   "outputs": [],
   "source": []
  }
 ],
 "metadata": {
  "kernelspec": {
   "display_name": "Python 3",
   "language": "python",
   "name": "python3"
  },
  "language_info": {
   "codemirror_mode": {
    "name": "ipython",
    "version": 3
   },
   "file_extension": ".py",
   "mimetype": "text/x-python",
   "name": "python",
   "nbconvert_exporter": "python",
   "pygments_lexer": "ipython3",
   "version": "3.6.6"
  }
 },
 "nbformat": 4,
 "nbformat_minor": 2
}
